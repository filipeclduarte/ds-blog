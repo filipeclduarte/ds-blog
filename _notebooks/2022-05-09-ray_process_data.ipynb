{
  "nbformat": 4,
  "nbformat_minor": 0,
  "metadata": {
    "colab": {
      "name": "ray_process_data.ipynb",
      "provenance": [],
      "collapsed_sections": []
    },
    "kernelspec": {
      "name": "python3",
      "display_name": "Python 3"
    },
    "language_info": {
      "name": "python"
    }
  },
  "cells": [
    {
      "cell_type": "markdown",
      "source": [
        "# \"Process data with Ray\"\n",
        "> \"Awesome summary\"\n",
        "\n",
        "- toc: false\n",
        "- branch: master\n",
        "- badges: true\n",
        "- comments: true\n",
        "- categories: [fastpages, jupyter]\n",
        "- hide: false\n",
        "- search_exclude: true\n",
        "- metadata_key1: metadata_value1\n",
        "- metadata_key2: metadata_value2"
      ],
      "metadata": {
        "id": "6OVVgSvO1SsT"
      }
    },
    {
      "cell_type": "code",
      "metadata": {
        "colab": {
          "base_uri": "https://localhost:8080/"
        },
        "id": "fqN5PZJ2oxJF",
        "outputId": "3ed01ef2-e999-4aa5-d8f7-a71ea6d68bb8"
      },
      "source": [
        "!pip install -U ray"
      ],
      "execution_count": null,
      "outputs": [
        {
          "output_type": "stream",
          "name": "stdout",
          "text": [
            "Collecting ray\n",
            "  Downloading ray-1.8.0-cp37-cp37m-manylinux2014_x86_64.whl (54.7 MB)\n",
            "\u001b[K     |████████████████████████████████| 54.7 MB 30 kB/s \n",
            "\u001b[?25hRequirement already satisfied: protobuf>=3.15.3 in /usr/local/lib/python3.7/dist-packages (from ray) (3.17.3)\n",
            "Requirement already satisfied: attrs in /usr/local/lib/python3.7/dist-packages (from ray) (21.2.0)\n",
            "Requirement already satisfied: numpy>=1.16 in /usr/local/lib/python3.7/dist-packages (from ray) (1.19.5)\n",
            "Requirement already satisfied: grpcio>=1.28.1 in /usr/local/lib/python3.7/dist-packages (from ray) (1.42.0)\n",
            "Requirement already satisfied: jsonschema in /usr/local/lib/python3.7/dist-packages (from ray) (2.6.0)\n",
            "Collecting redis>=3.5.0\n",
            "  Downloading redis-4.0.2-py3-none-any.whl (119 kB)\n",
            "\u001b[K     |████████████████████████████████| 119 kB 54.1 MB/s \n",
            "\u001b[?25hRequirement already satisfied: msgpack<2.0.0,>=1.0.0 in /usr/local/lib/python3.7/dist-packages (from ray) (1.0.2)\n",
            "Requirement already satisfied: click>=7.0 in /usr/local/lib/python3.7/dist-packages (from ray) (7.1.2)\n",
            "Requirement already satisfied: pyyaml in /usr/local/lib/python3.7/dist-packages (from ray) (3.13)\n",
            "Requirement already satisfied: filelock in /usr/local/lib/python3.7/dist-packages (from ray) (3.4.0)\n",
            "Requirement already satisfied: six>=1.5.2 in /usr/local/lib/python3.7/dist-packages (from grpcio>=1.28.1->ray) (1.15.0)\n",
            "Collecting deprecated\n",
            "  Downloading Deprecated-1.2.13-py2.py3-none-any.whl (9.6 kB)\n",
            "Requirement already satisfied: wrapt<2,>=1.10 in /usr/local/lib/python3.7/dist-packages (from deprecated->redis>=3.5.0->ray) (1.13.3)\n",
            "Installing collected packages: deprecated, redis, ray\n",
            "Successfully installed deprecated-1.2.13 ray-1.8.0 redis-4.0.2\n"
          ]
        }
      ]
    },
    {
      "cell_type": "code",
      "metadata": {
        "colab": {
          "base_uri": "https://localhost:8080/"
        },
        "id": "ayOhC0ljp3OG",
        "outputId": "93f43036-c71d-4668-ad15-454d1ad2e86e"
      },
      "source": [
        "pip install pandas-datareader==0.10.0"
      ],
      "execution_count": null,
      "outputs": [
        {
          "output_type": "stream",
          "name": "stdout",
          "text": [
            "Collecting pandas-datareader==0.10.0\n",
            "  Downloading pandas_datareader-0.10.0-py3-none-any.whl (109 kB)\n",
            "\u001b[?25l\r\u001b[K     |███                             | 10 kB 20.0 MB/s eta 0:00:01\r\u001b[K     |██████                          | 20 kB 23.8 MB/s eta 0:00:01\r\u001b[K     |█████████                       | 30 kB 27.4 MB/s eta 0:00:01\r\u001b[K     |████████████                    | 40 kB 28.5 MB/s eta 0:00:01\r\u001b[K     |███████████████                 | 51 kB 30.7 MB/s eta 0:00:01\r\u001b[K     |██████████████████              | 61 kB 33.1 MB/s eta 0:00:01\r\u001b[K     |█████████████████████           | 71 kB 34.9 MB/s eta 0:00:01\r\u001b[K     |████████████████████████        | 81 kB 36.4 MB/s eta 0:00:01\r\u001b[K     |███████████████████████████     | 92 kB 38.3 MB/s eta 0:00:01\r\u001b[K     |██████████████████████████████  | 102 kB 37.8 MB/s eta 0:00:01\r\u001b[K     |████████████████████████████████| 109 kB 37.8 MB/s \n",
            "\u001b[?25hRequirement already satisfied: lxml in /usr/local/lib/python3.7/dist-packages (from pandas-datareader==0.10.0) (4.2.6)\n",
            "Requirement already satisfied: pandas>=0.23 in /usr/local/lib/python3.7/dist-packages (from pandas-datareader==0.10.0) (1.1.5)\n",
            "Requirement already satisfied: requests>=2.19.0 in /usr/local/lib/python3.7/dist-packages (from pandas-datareader==0.10.0) (2.23.0)\n",
            "Requirement already satisfied: python-dateutil>=2.7.3 in /usr/local/lib/python3.7/dist-packages (from pandas>=0.23->pandas-datareader==0.10.0) (2.8.2)\n",
            "Requirement already satisfied: pytz>=2017.2 in /usr/local/lib/python3.7/dist-packages (from pandas>=0.23->pandas-datareader==0.10.0) (2018.9)\n",
            "Requirement already satisfied: numpy>=1.15.4 in /usr/local/lib/python3.7/dist-packages (from pandas>=0.23->pandas-datareader==0.10.0) (1.19.5)\n",
            "Requirement already satisfied: six>=1.5 in /usr/local/lib/python3.7/dist-packages (from python-dateutil>=2.7.3->pandas>=0.23->pandas-datareader==0.10.0) (1.15.0)\n",
            "Requirement already satisfied: idna<3,>=2.5 in /usr/local/lib/python3.7/dist-packages (from requests>=2.19.0->pandas-datareader==0.10.0) (2.10)\n",
            "Requirement already satisfied: chardet<4,>=3.0.2 in /usr/local/lib/python3.7/dist-packages (from requests>=2.19.0->pandas-datareader==0.10.0) (3.0.4)\n",
            "Requirement already satisfied: certifi>=2017.4.17 in /usr/local/lib/python3.7/dist-packages (from requests>=2.19.0->pandas-datareader==0.10.0) (2021.10.8)\n",
            "Requirement already satisfied: urllib3!=1.25.0,!=1.25.1,<1.26,>=1.21.1 in /usr/local/lib/python3.7/dist-packages (from requests>=2.19.0->pandas-datareader==0.10.0) (1.24.3)\n",
            "Installing collected packages: pandas-datareader\n",
            "  Attempting uninstall: pandas-datareader\n",
            "    Found existing installation: pandas-datareader 0.9.0\n",
            "    Uninstalling pandas-datareader-0.9.0:\n",
            "      Successfully uninstalled pandas-datareader-0.9.0\n",
            "Successfully installed pandas-datareader-0.10.0\n"
          ]
        }
      ]
    },
    {
      "cell_type": "code",
      "metadata": {
        "id": "qF7QdELVo_ux"
      },
      "source": [
        "import pandas as pd\n",
        "import numpy as np\n",
        "import pandas_datareader as web\n",
        "import itertools"
      ],
      "execution_count": null,
      "outputs": []
    },
    {
      "cell_type": "code",
      "metadata": {
        "colab": {
          "base_uri": "https://localhost:8080/"
        },
        "id": "EtDuhKc-pE_N",
        "outputId": "9d5a001e-ddf7-43c9-e74f-a0ccb2c89a5e"
      },
      "source": [
        "import ray\n",
        "\n",
        "# start ray\n",
        "ray.init(num_cpus=6)\n"
      ],
      "execution_count": null,
      "outputs": [
        {
          "output_type": "execute_result",
          "data": {
            "text/plain": [
              "{'metrics_export_port': 62438,\n",
              " 'node_id': '01d331c749e42aab051c37dc324fa73540f4da1c2c936884e451fc76',\n",
              " 'node_ip_address': '172.28.0.2',\n",
              " 'object_store_address': '/tmp/ray/session_2021-11-22_19-09-20_711468_62/sockets/plasma_store',\n",
              " 'raylet_ip_address': '172.28.0.2',\n",
              " 'raylet_socket_name': '/tmp/ray/session_2021-11-22_19-09-20_711468_62/sockets/raylet',\n",
              " 'redis_address': '172.28.0.2:6379',\n",
              " 'session_dir': '/tmp/ray/session_2021-11-22_19-09-20_711468_62',\n",
              " 'webui_url': None}"
            ]
          },
          "metadata": {},
          "execution_count": 4
        }
      ]
    },
    {
      "cell_type": "code",
      "metadata": {
        "id": "CFbvoj-MpMHn"
      },
      "source": [
        "def get_data(ticker, dt_init, dt_end):\n",
        "    return web.get_data_yahoo(ticker+'.SA', start=dt_init, end=dt_end)\n",
        "\n",
        "\n",
        "@ray.remote\n",
        "def get_data_remote(ticker, dt_init, dt_end):\n",
        "    return web.get_data_yahoo(ticker+'.SA', start=dt_init, end=dt_end)\n",
        "\n",
        "\n",
        "def processa_data(x):\n",
        "    return x['Adj Close'].pct_change()\n",
        "\n",
        "@ray.remote\n",
        "def processa_data_remote(x):\n",
        "    return x['Adj Close'].pct_change()\n",
        "\n",
        "\n",
        "def ingest(ticker, dt_init, dt_end):\n",
        "    df = get_data(ticker, dt_init, dt_end)\n",
        "    df['retorno'] = processa_data(df)\n",
        "    return df.dropna()\n",
        "\n",
        "@ray.remote\n",
        "def ingest_remote(ticker, dt_init, dt_end):\n",
        "    df = get_data(ticker, dt_init, dt_end)\n",
        "    df['retorno'] = processa_data(df)\n",
        "    return df.dropna()\n",
        "\n",
        "\n"
      ],
      "execution_count": null,
      "outputs": []
    },
    {
      "cell_type": "code",
      "metadata": {
        "id": "CLjqekfTq0Uf"
      },
      "source": [
        "\n",
        "# benchmarking\n",
        "tickers = ['ELET3', 'ELET6','PETR3', 'MGLU3', 'ABEV3', 'ALPA4', 'BRFS3', 'GOLL4', 'HYPE3', 'RENT3', 'MRFG3', 'RADL3', 'SUZB3', 'VALE3']\n",
        "\n",
        "data_init = '2010-01-01'\n",
        "data_end = '2021-09-30'\n",
        "\n"
      ],
      "execution_count": null,
      "outputs": []
    },
    {
      "cell_type": "code",
      "metadata": {
        "colab": {
          "base_uri": "https://localhost:8080/"
        },
        "id": "iMQEeM05r7iR",
        "outputId": "6d699e14-28f0-4a6a-8b8a-52005292d895"
      },
      "source": [
        "%%time\n",
        "resultado = [get_data(ticker, data_init, data_end) for ticker in tickers]"
      ],
      "execution_count": null,
      "outputs": [
        {
          "output_type": "stream",
          "name": "stdout",
          "text": [
            "CPU times: user 1.51 s, sys: 147 ms, total: 1.65 s\n",
            "Wall time: 11.8 s\n"
          ]
        }
      ]
    },
    {
      "cell_type": "code",
      "metadata": {
        "colab": {
          "base_uri": "https://localhost:8080/"
        },
        "id": "3RSatFC0sG1K",
        "outputId": "38a39f18-69c8-4da8-84e3-14447e08add3"
      },
      "source": [
        "%%time \n",
        "resultado_ray = [get_data_remote.remote(ticker, data_init, data_end) for ticker in tickers]\n",
        "resultado_ray = ray.get(resultado_ray)"
      ],
      "execution_count": null,
      "outputs": [
        {
          "output_type": "stream",
          "name": "stdout",
          "text": [
            "CPU times: user 191 ms, sys: 40.1 ms, total: 231 ms\n",
            "Wall time: 5.44 s\n"
          ]
        }
      ]
    },
    {
      "cell_type": "code",
      "metadata": {
        "id": "CIKkL4IUspNS"
      },
      "source": [
        "resultado_ray"
      ],
      "execution_count": null,
      "outputs": []
    },
    {
      "cell_type": "code",
      "metadata": {
        "colab": {
          "base_uri": "https://localhost:8080/"
        },
        "id": "BWPxmJlxszwd",
        "outputId": "a104b3d8-7b8e-47df-8a1d-9b313651dcdc"
      },
      "source": [
        "%%time\n",
        "resultado_processamento = [processa_data(x) for x in resultado]"
      ],
      "execution_count": null,
      "outputs": [
        {
          "output_type": "stream",
          "name": "stdout",
          "text": [
            "CPU times: user 16.8 ms, sys: 0 ns, total: 16.8 ms\n",
            "Wall time: 21.4 ms\n"
          ]
        }
      ]
    },
    {
      "cell_type": "code",
      "metadata": {
        "id": "SYyIp7WTvVDl"
      },
      "source": [
        "resultado_processamento"
      ],
      "execution_count": null,
      "outputs": []
    },
    {
      "cell_type": "code",
      "metadata": {
        "colab": {
          "base_uri": "https://localhost:8080/"
        },
        "id": "tA-dKaWutodh",
        "outputId": "a155956f-f60a-414d-a36c-c61dc8a9c7f8"
      },
      "source": [
        "%%time\n",
        "resultado_processamento_remote = [processa_data_remote.remote(x) for x in resultado_ray]\n",
        "resultado_processamento_remote = ray.get(resultado_processamento_remote)"
      ],
      "execution_count": null,
      "outputs": [
        {
          "output_type": "stream",
          "name": "stdout",
          "text": [
            "CPU times: user 40.6 ms, sys: 18.4 ms, total: 58.9 ms\n",
            "Wall time: 102 ms\n"
          ]
        }
      ]
    },
    {
      "cell_type": "code",
      "metadata": {
        "colab": {
          "base_uri": "https://localhost:8080/"
        },
        "id": "4OzL3O3CvbiL",
        "outputId": "9ae6108c-e43e-4760-e596-d12f97c6dd42"
      },
      "source": [
        "%%time\n",
        "dados = [ingest(ticker, data_init, data_end) for ticker in tickers]"
      ],
      "execution_count": null,
      "outputs": [
        {
          "output_type": "stream",
          "name": "stdout",
          "text": [
            "CPU times: user 1.89 s, sys: 178 ms, total: 2.07 s\n",
            "Wall time: 32.2 s\n"
          ]
        }
      ]
    },
    {
      "cell_type": "code",
      "metadata": {
        "id": "fdSyXuu8wYB_"
      },
      "source": [
        "dados"
      ],
      "execution_count": null,
      "outputs": []
    },
    {
      "cell_type": "code",
      "metadata": {
        "colab": {
          "base_uri": "https://localhost:8080/"
        },
        "id": "wUBc7peZwHMV",
        "outputId": "f1beddd9-547e-4806-9983-619de1e1e94a"
      },
      "source": [
        "%%time \n",
        "dados_ray = [ingest_remote.remote(ticker, data_init, data_end) for ticker in tickers]\n",
        "dados_ray = ray.get(dados_ray)"
      ],
      "execution_count": null,
      "outputs": [
        {
          "output_type": "stream",
          "name": "stdout",
          "text": [
            "CPU times: user 187 ms, sys: 40.9 ms, total: 228 ms\n",
            "Wall time: 7.35 s\n"
          ]
        }
      ]
    },
    {
      "cell_type": "code",
      "metadata": {
        "id": "pSmV9rCDwTFN"
      },
      "source": [
        "dados_ray"
      ],
      "execution_count": null,
      "outputs": []
    },
    {
      "cell_type": "code",
      "metadata": {
        "id": "Xe8Tn0pKybo-"
      },
      "source": [
        "combinacoes = list(itertools.combinations(dados[0].columns, 3))"
      ],
      "execution_count": null,
      "outputs": []
    },
    {
      "cell_type": "code",
      "metadata": {
        "id": "hE2kp2IEyfp-"
      },
      "source": [
        "def statistics(df, combinacoes):\n",
        "    return df[combinacoes].resample('Q').pad().describe()\n",
        "\n",
        "@ray.remote\n",
        "def statistics_remote(df, combinacoes):\n",
        "    return df[combinacoes].resample('Q').pad().describe()\n"
      ],
      "execution_count": null,
      "outputs": []
    },
    {
      "cell_type": "code",
      "metadata": {
        "colab": {
          "base_uri": "https://localhost:8080/"
        },
        "id": "LeHhyD1vz45z",
        "outputId": "4604daa8-ddf4-456d-f403-1c363b7a8168"
      },
      "source": [
        "%%time\n",
        "stats = [statistics(df, list(combinacao)) for combinacao in combinacoes for df in dados]"
      ],
      "execution_count": null,
      "outputs": [
        {
          "output_type": "stream",
          "name": "stdout",
          "text": [
            "CPU times: user 5.76 s, sys: 249 ms, total: 6.01 s\n",
            "Wall time: 6.06 s\n"
          ]
        }
      ]
    },
    {
      "cell_type": "code",
      "metadata": {
        "colab": {
          "base_uri": "https://localhost:8080/"
        },
        "id": "wbqhxXgMz9VR",
        "outputId": "2c5f1962-0f11-4e4d-e172-ec8350242cd1"
      },
      "source": [
        "%%time\n",
        "stats_ray = ray.get([statistics_remote.remote(df, list(combinacao)) for combinacao in combinacoes for df in dados])"
      ],
      "execution_count": null,
      "outputs": [
        {
          "output_type": "stream",
          "name": "stdout",
          "text": [
            "\u001b[2m\u001b[36m(statistics_remote pid=2113)\u001b[0m \n",
            "CPU times: user 1.88 s, sys: 481 ms, total: 2.36 s\n",
            "Wall time: 8.36 s\n"
          ]
        }
      ]
    },
    {
      "cell_type": "code",
      "metadata": {
        "colab": {
          "base_uri": "https://localhost:8080/"
        },
        "id": "xhDkxqru4CT7",
        "outputId": "296bc9cd-cb48-4d6c-ddee-bbc95c19a915"
      },
      "source": [
        "combinacoes"
      ],
      "execution_count": null,
      "outputs": [
        {
          "output_type": "execute_result",
          "data": {
            "text/plain": [
              "[('High', 'Low', 'Open'),\n",
              " ('High', 'Low', 'Close'),\n",
              " ('High', 'Low', 'Volume'),\n",
              " ('High', 'Low', 'Adj Close'),\n",
              " ('High', 'Low', 'retorno'),\n",
              " ('High', 'Open', 'Close'),\n",
              " ('High', 'Open', 'Volume'),\n",
              " ('High', 'Open', 'Adj Close'),\n",
              " ('High', 'Open', 'retorno'),\n",
              " ('High', 'Close', 'Volume'),\n",
              " ('High', 'Close', 'Adj Close'),\n",
              " ('High', 'Close', 'retorno'),\n",
              " ('High', 'Volume', 'Adj Close'),\n",
              " ('High', 'Volume', 'retorno'),\n",
              " ('High', 'Adj Close', 'retorno'),\n",
              " ('Low', 'Open', 'Close'),\n",
              " ('Low', 'Open', 'Volume'),\n",
              " ('Low', 'Open', 'Adj Close'),\n",
              " ('Low', 'Open', 'retorno'),\n",
              " ('Low', 'Close', 'Volume'),\n",
              " ('Low', 'Close', 'Adj Close'),\n",
              " ('Low', 'Close', 'retorno'),\n",
              " ('Low', 'Volume', 'Adj Close'),\n",
              " ('Low', 'Volume', 'retorno'),\n",
              " ('Low', 'Adj Close', 'retorno'),\n",
              " ('Open', 'Close', 'Volume'),\n",
              " ('Open', 'Close', 'Adj Close'),\n",
              " ('Open', 'Close', 'retorno'),\n",
              " ('Open', 'Volume', 'Adj Close'),\n",
              " ('Open', 'Volume', 'retorno'),\n",
              " ('Open', 'Adj Close', 'retorno'),\n",
              " ('Close', 'Volume', 'Adj Close'),\n",
              " ('Close', 'Volume', 'retorno'),\n",
              " ('Close', 'Adj Close', 'retorno'),\n",
              " ('Volume', 'Adj Close', 'retorno')]"
            ]
          },
          "metadata": {},
          "execution_count": 22
        }
      ]
    },
    {
      "cell_type": "code",
      "metadata": {
        "id": "atoVb9Ld4Daz"
      },
      "source": [
        ""
      ],
      "execution_count": null,
      "outputs": []
    }
  ]
}